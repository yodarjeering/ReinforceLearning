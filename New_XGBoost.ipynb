{
 "cells": [
  {
   "cell_type": "markdown",
   "id": "4406420b-a25c-4a6a-aceb-d0dfdf87656b",
   "metadata": {},
   "source": [
    "# Import Library"
   ]
  },
  {
   "cell_type": "code",
   "execution_count": 124,
   "id": "1f15b44c-6313-42ce-8aef-c4a996e3151d",
   "metadata": {
    "tags": []
   },
   "outputs": [],
   "source": [
    "\n",
    "import time\n",
    "import glob\n",
    "import datetime\n",
    "import random\n",
    "import pickle\n",
    "import numpy as np\n",
    "import shutil\n",
    "import os\n",
    "import sklearn\n",
    "import pandas as pd\n",
    "import seaborn as sns\n",
    "import matplotlib.pyplot as plt\n",
    "np.random.seed(1) # (A)\n",
    "import keras.optimizers  # (B)\n",
    "from keras.models import Sequential # (C)\n",
    "from keras.layers.core import Dense, Activation #(D)\n",
    "from keras.layers.normalization import BatchNormalization\n",
    "from keras.utils.np_utils import to_categorical\n",
    "from decimal import *\n",
    "from keras.layers.recurrent import SimpleRNN, LSTM\n",
    "from sklearn import preprocessing\n",
    "from keras.utils.np_utils import to_categorical\n",
    "from keras.layers import Dense, Activation, Dropout\n",
    "from keras.callbacks import EarlyStopping\n",
    "from sklearn.metrics import confusion_matrix\n",
    "from sklearn import datasets\n",
    "from sklearn.svm import SVC\n",
    "from sklearn.svm import SVR\n",
    "from sklearn.model_selection import train_test_split,GridSearchCV\n",
    "from keras.layers import Embedding\n",
    "from keras.wrappers.scikit_learn import KerasClassifier\n",
    "import xgboost as xgb\n",
    "from sklearn.metrics import accuracy_score  \n",
    "from selenium import webdriver\n",
    "from selenium.webdriver.common.keys import Keys\n",
    "from selenium.webdriver.common.action_chains import ActionChains\n",
    "from tensorflow.python.keras.models import load_model\n",
    "import statsmodels.graphics.api as smg\n",
    "from statsmodels.graphics.tsaplots import plot_acf\n",
    "from scipy import stats\n",
    "from scipy.stats import f\n",
    "from imblearn.under_sampling import RandomUnderSampler\n",
    "from sklearn.metrics import classification_report, accuracy_score"
   ]
  },
  {
   "cell_type": "markdown",
   "id": "72f9ec19-a0ba-423f-ab4b-5715f621e916",
   "metadata": {},
   "source": [
    "# Load DF"
   ]
  },
  {
   "cell_type": "code",
   "execution_count": 48,
   "id": "b07ff76a-28cb-4dd8-94a5-f0ba16cb78d6",
   "metadata": {},
   "outputs": [],
   "source": [
    "class DataFramePreProcessing():\n",
    "\n",
    "    \n",
    "    def __init__(self, path_):\n",
    "        self.path_ = path_\n",
    "\n",
    "        \n",
    "    def load_df(self):\n",
    "        FILE = glob.glob(path_)\n",
    "        df = pd.read_csv(FILE[0])\n",
    "        df = df.rename(columns={df.columns[0]:'nan',df.columns[1]:'nan',df.columns[2]:'nan',\\\n",
    "                                    df.columns[3]:'day',df.columns[4]:'nan',df.columns[5]:'open',\\\n",
    "                                    df.columns[6]:'high',df.columns[7]:'low',df.columns[8]:'close',\\\n",
    "                                       df.columns[9]:'nan',})\n",
    "        df = df.drop('nan',axis=1)\n",
    "        df = df.drop(df.index[0])\n",
    "        df['day'] = pd.to_datetime(df['day'],format='%Y/%m/%d')\n",
    "        df.set_index('day',inplace=True)\n",
    "\n",
    "        return df.astype(float)"
   ]
  },
  {
   "cell_type": "markdown",
   "id": "aa635950-943e-49d5-9694-596a29d7f400",
   "metadata": {},
   "source": [
    "# Make Train Data"
   ]
  },
  {
   "cell_type": "code",
   "execution_count": 171,
   "id": "55cf6389-d224-4042-87f0-a605b77dfb6b",
   "metadata": {},
   "outputs": [],
   "source": [
    "\n",
    "class MakeTrainData2class():\n",
    "    \n",
    "    \n",
    "    def __init__(self, df, stride, test_rate, column='close', scale_type='standard', is_category=True):\n",
    "        self.df = df\n",
    "        self.stride = stride # Assume stride>=1\n",
    "        self.test_rate = test_rate\n",
    "        self.column = column\n",
    "        self.scale_type = scale_type\n",
    "        self.is_category= is_category\n",
    "        \n",
    "        \n",
    "    def labeling(self):\n",
    "        if self.is_category:\n",
    "            up=1\n",
    "            down=0\n",
    "        else:\n",
    "            up=[0,1]\n",
    "            down=[1,0]\n",
    "        \n",
    "        \n",
    "        return up,down\n",
    "        \n",
    "    def make_data(self):\n",
    "        x = []\n",
    "        y = []\n",
    "        up, down = self.labeling()\n",
    "        df_column = self.df[self.column]\n",
    "        for i in range(len(df_column)-self.stride):\n",
    "            price_list = df_column.iloc[i:i+self.stride].tolist()\n",
    "            today_price = df_column.iloc[i+self.stride-1]\n",
    "            tommorow_price = df_column.iloc[i+self.stride]\n",
    "            \n",
    "            \n",
    "            if tommorow_price > today_price:# if up\n",
    "                y.append(up)\n",
    "            else: # if down or equal, but equal price is rare case.\n",
    "                y.append(down)\n",
    "                \n",
    "            \n",
    "            if self.scale_type == 'standard':\n",
    "                x.append(preprocessing.scale(np.array(price_list)).reshape(-1).tolist())\n",
    "            elif self.scale_type == 'robust':\n",
    "                x.append(preprocessing.robust_scale(np.array(price_list)).reshape(-1).tolist())\n",
    "            elif self.scale_type == 'minmax':\n",
    "                x.append(preprocessing.minmax_scale(np.array(price_list)).reshape(-1).tolist())\n",
    "                \n",
    "                \n",
    "        TEST_RATE = len(x)*self.test_rate\n",
    "        TEST_RATE = int(TEST_RATE)\n",
    "        x,y              = np.array(x),np.array(y)\n",
    "        x_train,y_train  = x[:TEST_RATE],y[:TEST_RATE]\n",
    "        x_test,y_test    = x[TEST_RATE:], y[TEST_RATE:]\n",
    "        \n",
    "        train_up_count   = y_train[y_train==up].shape[0]\n",
    "        train_down_count = y_train[y_train==down].shape[0]\n",
    "        test_up_count    = y_test[y_test==up].shape[0]\n",
    "        test_down_count  = y_test[y_test==down].shape[0]\n",
    "        print(\"Train UP :\",train_up_count,\"DOWN :\",train_down_count) # if is_one_hot, count is twice times as large as true count.\n",
    "        print(\"Test  UP :\",test_up_count,\"DOWN :\",test_down_count)\n",
    "        return x_train, y_train, x_test, y_test\n",
    "    \n",
    "    \n",
    "    def under_sampling(self):\n",
    "        x_train, y_train, x_test, y_test = self.make_data()\n",
    "        if not self.is_category:\n",
    "            y_train =  np.argmax(y_train, axis=1)\n",
    "            y_test  =  np.argmax(y_resampled, axis=1)        \n",
    "        \n",
    "        \n",
    "        x_resampled_train, y_resampled_train = self.lose_label(x_train, y_train)\n",
    "        x_resampled_test, y_resampled_test = self.lose_label(x_test, y_test)\n",
    "        train_up_count   = y_resampled_train[y_resampled_train==1].shape[0]\n",
    "        train_down_count = y_resampled_train[y_resampled_train==0].shape[0]\n",
    "        test_up_count    = y_resampled_test[y_resampled_test==1].shape[0]\n",
    "        test_down_count  = y_resampled_test[y_resampled_test==0].shape[0]\n",
    "        print(\"Train UP :\",train_up_count,\"DOWN :\",train_down_count) # if is_one_hot, count is twice times as large as true count.\n",
    "        print(\"Test  UP :\",test_up_count,\"DOWN :\",test_down_count)\n",
    "        \n",
    "        \n",
    "        if not self.is_category:\n",
    "            y_resampled_train = np.identity(2)[y_resampled_train]\n",
    "            y_resampled_test = np.identity(2)[y_resampled_test]\n",
    "\n",
    "        \n",
    "        return x_resampled_train, y_resampled_train, x_resampled_test, y_resampled_test\n",
    "        \n",
    "    def lose_label(self, x, y):\n",
    "        rus = RandomUnderSampler(random_state=0)\n",
    "        x_resampled, y_resampled = rus.fit_resample(x, y)\n",
    "        \n",
    "        return x_resampled, y_resampled\n",
    "    \n",
    "    \n",
    "    \n"
   ]
  },
  {
   "cell_type": "code",
   "execution_count": 166,
   "id": "392b8309-34bd-4b6c-a93f-e7e91a37630a",
   "metadata": {},
   "outputs": [
    {
     "data": {
      "text/plain": [
       "array([0, 0, 0, ..., 1, 1, 1])"
      ]
     },
     "execution_count": 166,
     "metadata": {},
     "output_type": "execute_result"
    }
   ],
   "source": [
    "y_resampled"
   ]
  },
  {
   "cell_type": "code",
   "execution_count": 143,
   "id": "353caee1-f95f-4f9c-961b-611c6f5c45be",
   "metadata": {
    "tags": []
   },
   "outputs": [
    {
     "name": "stdout",
     "output_type": "stream",
     "text": [
      "Train UP : 1085 DOWN : 951\n",
      "Test  UP : 280 DOWN : 229\n"
     ]
    }
   ],
   "source": [
    "path2 = '/Users/rince/Desktop/StockPriceData/Stock_index/NFNK225_10years.csv'\n",
    "\n",
    "df_nf225 = DataFramePreProcessing.load_df(path2)\n",
    "\n",
    "x_train, y_train, x_test, y_test = MakeTrainData2class( df_nf225, stride=5, test_rate=0.8).make_data()\n",
    "# Train UP : 2170 DOWN : 1902\n",
    "# Test UP : 560 DOWN : 458\n",
    "\n",
    "# Train UP : 1085 DOWN : 951\n",
    "# Test UP : 280 DOWN : 229"
   ]
  },
  {
   "cell_type": "markdown",
   "id": "2a8c0306-7066-41dd-adf3-e628308b3fac",
   "metadata": {},
   "source": [
    "# Search best stride"
   ]
  },
  {
   "cell_type": "code",
   "execution_count": 170,
   "id": "ad9e87cc-dd94-49cc-b167-bdd921fe6434",
   "metadata": {
    "tags": []
   },
   "outputs": [
    {
     "name": "stdout",
     "output_type": "stream",
     "text": [
      "i : 2 scale_type : standard\n",
      "Train UP : 1084 DOWN : 954\n",
      "Test  UP : 281 DOWN : 229\n",
      "Train UP : 954 DOWN : 954\n",
      "Test  UP : 229 DOWN : 229\n",
      "[22:52:08] WARNING: /Users/travis/build/dmlc/xgboost/src/learner.cc:1095: Starting in XGBoost 1.3.0, the default evaluation metric used with the objective 'binary:logistic' was changed from 'error' to 'logloss'. Explicitly set eval_metric if you'd like to restore the old behavior.\n",
      "              precision    recall  f1-score   support\n",
      "\n",
      "           0       0.54      0.62      0.58       229\n",
      "           1       0.55      0.46      0.50       229\n",
      "\n",
      "    accuracy                           0.54       458\n",
      "   macro avg       0.54      0.54      0.54       458\n",
      "weighted avg       0.54      0.54      0.54       458\n",
      "\n",
      "----------------------------------------\n",
      "i : 2 scale_type : robust\n"
     ]
    },
    {
     "name": "stderr",
     "output_type": "stream",
     "text": [
      "/usr/local/lib/python3.9/site-packages/xgboost/sklearn.py:1146: UserWarning: The use of label encoder in XGBClassifier is deprecated and will be removed in a future release. To remove this warning, do the following: 1) Pass option use_label_encoder=False when constructing XGBClassifier object; and 2) Encode your labels (y) as integers starting with 0, i.e. 0, 1, 2, ..., [num_class - 1].\n",
      "  warnings.warn(label_encoder_deprecation_msg, UserWarning)\n"
     ]
    },
    {
     "name": "stdout",
     "output_type": "stream",
     "text": [
      "Train UP : 1084 DOWN : 954\n",
      "Test  UP : 281 DOWN : 229\n",
      "Train UP : 954 DOWN : 954\n",
      "Test  UP : 229 DOWN : 229\n",
      "[22:52:10] WARNING: /Users/travis/build/dmlc/xgboost/src/learner.cc:1095: Starting in XGBoost 1.3.0, the default evaluation metric used with the objective 'binary:logistic' was changed from 'error' to 'logloss'. Explicitly set eval_metric if you'd like to restore the old behavior.\n",
      "              precision    recall  f1-score   support\n",
      "\n",
      "           0       0.54      0.62      0.58       229\n",
      "           1       0.55      0.46      0.50       229\n",
      "\n",
      "    accuracy                           0.54       458\n",
      "   macro avg       0.54      0.54      0.54       458\n",
      "weighted avg       0.54      0.54      0.54       458\n",
      "\n",
      "----------------------------------------\n",
      "i : 2 scale_type : minmax\n"
     ]
    },
    {
     "name": "stderr",
     "output_type": "stream",
     "text": [
      "/usr/local/lib/python3.9/site-packages/xgboost/sklearn.py:1146: UserWarning: The use of label encoder in XGBClassifier is deprecated and will be removed in a future release. To remove this warning, do the following: 1) Pass option use_label_encoder=False when constructing XGBClassifier object; and 2) Encode your labels (y) as integers starting with 0, i.e. 0, 1, 2, ..., [num_class - 1].\n",
      "  warnings.warn(label_encoder_deprecation_msg, UserWarning)\n"
     ]
    },
    {
     "name": "stdout",
     "output_type": "stream",
     "text": [
      "Train UP : 1084 DOWN : 954\n",
      "Test  UP : 281 DOWN : 229\n",
      "Train UP : 954 DOWN : 954\n",
      "Test  UP : 229 DOWN : 229\n",
      "[22:52:11] WARNING: /Users/travis/build/dmlc/xgboost/src/learner.cc:1095: Starting in XGBoost 1.3.0, the default evaluation metric used with the objective 'binary:logistic' was changed from 'error' to 'logloss'. Explicitly set eval_metric if you'd like to restore the old behavior.\n",
      "              precision    recall  f1-score   support\n",
      "\n",
      "           0       0.54      0.62      0.58       229\n",
      "           1       0.55      0.46      0.50       229\n",
      "\n",
      "    accuracy                           0.54       458\n",
      "   macro avg       0.54      0.54      0.54       458\n",
      "weighted avg       0.54      0.54      0.54       458\n",
      "\n",
      "----------------------------------------\n",
      "i : 4 scale_type : standard\n"
     ]
    },
    {
     "name": "stderr",
     "output_type": "stream",
     "text": [
      "/usr/local/lib/python3.9/site-packages/xgboost/sklearn.py:1146: UserWarning: The use of label encoder in XGBClassifier is deprecated and will be removed in a future release. To remove this warning, do the following: 1) Pass option use_label_encoder=False when constructing XGBClassifier object; and 2) Encode your labels (y) as integers starting with 0, i.e. 0, 1, 2, ..., [num_class - 1].\n",
      "  warnings.warn(label_encoder_deprecation_msg, UserWarning)\n"
     ]
    },
    {
     "name": "stdout",
     "output_type": "stream",
     "text": [
      "Train UP : 1084 DOWN : 952\n",
      "Test  UP : 281 DOWN : 229\n",
      "Train UP : 952 DOWN : 952\n",
      "Test  UP : 229 DOWN : 229\n",
      "[22:52:12] WARNING: /Users/travis/build/dmlc/xgboost/src/learner.cc:1095: Starting in XGBoost 1.3.0, the default evaluation metric used with the objective 'binary:logistic' was changed from 'error' to 'logloss'. Explicitly set eval_metric if you'd like to restore the old behavior.\n",
      "              precision    recall  f1-score   support\n",
      "\n",
      "           0       0.50      0.51      0.51       229\n",
      "           1       0.50      0.49      0.50       229\n",
      "\n",
      "    accuracy                           0.50       458\n",
      "   macro avg       0.50      0.50      0.50       458\n",
      "weighted avg       0.50      0.50      0.50       458\n",
      "\n",
      "----------------------------------------\n",
      "i : 4 scale_type : robust\n"
     ]
    },
    {
     "name": "stderr",
     "output_type": "stream",
     "text": [
      "/usr/local/lib/python3.9/site-packages/xgboost/sklearn.py:1146: UserWarning: The use of label encoder in XGBClassifier is deprecated and will be removed in a future release. To remove this warning, do the following: 1) Pass option use_label_encoder=False when constructing XGBClassifier object; and 2) Encode your labels (y) as integers starting with 0, i.e. 0, 1, 2, ..., [num_class - 1].\n",
      "  warnings.warn(label_encoder_deprecation_msg, UserWarning)\n"
     ]
    },
    {
     "name": "stdout",
     "output_type": "stream",
     "text": [
      "Train UP : 1084 DOWN : 952\n",
      "Test  UP : 281 DOWN : 229\n",
      "Train UP : 952 DOWN : 952\n",
      "Test  UP : 229 DOWN : 229\n",
      "[22:52:15] WARNING: /Users/travis/build/dmlc/xgboost/src/learner.cc:1095: Starting in XGBoost 1.3.0, the default evaluation metric used with the objective 'binary:logistic' was changed from 'error' to 'logloss'. Explicitly set eval_metric if you'd like to restore the old behavior.\n",
      "              precision    recall  f1-score   support\n",
      "\n",
      "           0       0.50      0.49      0.49       229\n",
      "           1       0.50      0.51      0.50       229\n",
      "\n",
      "    accuracy                           0.50       458\n",
      "   macro avg       0.50      0.50      0.50       458\n",
      "weighted avg       0.50      0.50      0.50       458\n",
      "\n",
      "----------------------------------------\n",
      "i : 4 scale_type : minmax\n"
     ]
    },
    {
     "name": "stderr",
     "output_type": "stream",
     "text": [
      "/usr/local/lib/python3.9/site-packages/xgboost/sklearn.py:1146: UserWarning: The use of label encoder in XGBClassifier is deprecated and will be removed in a future release. To remove this warning, do the following: 1) Pass option use_label_encoder=False when constructing XGBClassifier object; and 2) Encode your labels (y) as integers starting with 0, i.e. 0, 1, 2, ..., [num_class - 1].\n",
      "  warnings.warn(label_encoder_deprecation_msg, UserWarning)\n"
     ]
    },
    {
     "name": "stdout",
     "output_type": "stream",
     "text": [
      "Train UP : 1084 DOWN : 952\n",
      "Test  UP : 281 DOWN : 229\n",
      "Train UP : 952 DOWN : 952\n",
      "Test  UP : 229 DOWN : 229\n",
      "[22:52:16] WARNING: /Users/travis/build/dmlc/xgboost/src/learner.cc:1095: Starting in XGBoost 1.3.0, the default evaluation metric used with the objective 'binary:logistic' was changed from 'error' to 'logloss'. Explicitly set eval_metric if you'd like to restore the old behavior.\n",
      "              precision    recall  f1-score   support\n",
      "\n",
      "           0       0.49      0.46      0.47       229\n",
      "           1       0.49      0.51      0.50       229\n",
      "\n",
      "    accuracy                           0.49       458\n",
      "   macro avg       0.49      0.49      0.49       458\n",
      "weighted avg       0.49      0.49      0.49       458\n",
      "\n",
      "----------------------------------------\n",
      "i : 8 scale_type : standard\n"
     ]
    },
    {
     "name": "stderr",
     "output_type": "stream",
     "text": [
      "/usr/local/lib/python3.9/site-packages/xgboost/sklearn.py:1146: UserWarning: The use of label encoder in XGBClassifier is deprecated and will be removed in a future release. To remove this warning, do the following: 1) Pass option use_label_encoder=False when constructing XGBClassifier object; and 2) Encode your labels (y) as integers starting with 0, i.e. 0, 1, 2, ..., [num_class - 1].\n",
      "  warnings.warn(label_encoder_deprecation_msg, UserWarning)\n"
     ]
    },
    {
     "name": "stdout",
     "output_type": "stream",
     "text": [
      "Train UP : 1083 DOWN : 950\n",
      "Test  UP : 280 DOWN : 229\n",
      "Train UP : 950 DOWN : 950\n",
      "Test  UP : 229 DOWN : 229\n",
      "[22:52:17] WARNING: /Users/travis/build/dmlc/xgboost/src/learner.cc:1095: Starting in XGBoost 1.3.0, the default evaluation metric used with the objective 'binary:logistic' was changed from 'error' to 'logloss'. Explicitly set eval_metric if you'd like to restore the old behavior.\n"
     ]
    },
    {
     "name": "stderr",
     "output_type": "stream",
     "text": [
      "/usr/local/lib/python3.9/site-packages/xgboost/sklearn.py:1146: UserWarning: The use of label encoder in XGBClassifier is deprecated and will be removed in a future release. To remove this warning, do the following: 1) Pass option use_label_encoder=False when constructing XGBClassifier object; and 2) Encode your labels (y) as integers starting with 0, i.e. 0, 1, 2, ..., [num_class - 1].\n",
      "  warnings.warn(label_encoder_deprecation_msg, UserWarning)\n"
     ]
    },
    {
     "name": "stdout",
     "output_type": "stream",
     "text": [
      "              precision    recall  f1-score   support\n",
      "\n",
      "           0       0.51      0.48      0.49       229\n",
      "           1       0.51      0.54      0.52       229\n",
      "\n",
      "    accuracy                           0.51       458\n",
      "   macro avg       0.51      0.51      0.51       458\n",
      "weighted avg       0.51      0.51      0.51       458\n",
      "\n",
      "----------------------------------------\n",
      "i : 8 scale_type : robust\n",
      "Train UP : 1083 DOWN : 950\n",
      "Test  UP : 280 DOWN : 229\n",
      "Train UP : 950 DOWN : 950\n",
      "Test  UP : 229 DOWN : 229\n",
      "[22:52:19] WARNING: /Users/travis/build/dmlc/xgboost/src/learner.cc:1095: Starting in XGBoost 1.3.0, the default evaluation metric used with the objective 'binary:logistic' was changed from 'error' to 'logloss'. Explicitly set eval_metric if you'd like to restore the old behavior.\n",
      "              precision    recall  f1-score   support\n",
      "\n",
      "           0       0.52      0.46      0.49       229\n",
      "           1       0.52      0.58      0.55       229\n",
      "\n",
      "    accuracy                           0.52       458\n",
      "   macro avg       0.52      0.52      0.52       458\n",
      "weighted avg       0.52      0.52      0.52       458\n",
      "\n",
      "----------------------------------------\n",
      "i : 8 scale_type : minmax\n"
     ]
    },
    {
     "name": "stderr",
     "output_type": "stream",
     "text": [
      "/usr/local/lib/python3.9/site-packages/xgboost/sklearn.py:1146: UserWarning: The use of label encoder in XGBClassifier is deprecated and will be removed in a future release. To remove this warning, do the following: 1) Pass option use_label_encoder=False when constructing XGBClassifier object; and 2) Encode your labels (y) as integers starting with 0, i.e. 0, 1, 2, ..., [num_class - 1].\n",
      "  warnings.warn(label_encoder_deprecation_msg, UserWarning)\n"
     ]
    },
    {
     "name": "stdout",
     "output_type": "stream",
     "text": [
      "Train UP : 1083 DOWN : 950\n",
      "Test  UP : 280 DOWN : 229\n",
      "Train UP : 950 DOWN : 950\n",
      "Test  UP : 229 DOWN : 229\n",
      "[22:52:20] WARNING: /Users/travis/build/dmlc/xgboost/src/learner.cc:1095: Starting in XGBoost 1.3.0, the default evaluation metric used with the objective 'binary:logistic' was changed from 'error' to 'logloss'. Explicitly set eval_metric if you'd like to restore the old behavior.\n"
     ]
    },
    {
     "name": "stderr",
     "output_type": "stream",
     "text": [
      "/usr/local/lib/python3.9/site-packages/xgboost/sklearn.py:1146: UserWarning: The use of label encoder in XGBClassifier is deprecated and will be removed in a future release. To remove this warning, do the following: 1) Pass option use_label_encoder=False when constructing XGBClassifier object; and 2) Encode your labels (y) as integers starting with 0, i.e. 0, 1, 2, ..., [num_class - 1].\n",
      "  warnings.warn(label_encoder_deprecation_msg, UserWarning)\n"
     ]
    },
    {
     "name": "stdout",
     "output_type": "stream",
     "text": [
      "              precision    recall  f1-score   support\n",
      "\n",
      "           0       0.47      0.52      0.49       229\n",
      "           1       0.47      0.43      0.45       229\n",
      "\n",
      "    accuracy                           0.47       458\n",
      "   macro avg       0.47      0.47      0.47       458\n",
      "weighted avg       0.47      0.47      0.47       458\n",
      "\n",
      "----------------------------------------\n",
      "i : 16 scale_type : standard\n",
      "Train UP : 1082 DOWN : 945\n",
      "Test  UP : 279 DOWN : 228\n",
      "Train UP : 945 DOWN : 945\n",
      "Test  UP : 228 DOWN : 228\n",
      "[22:52:22] WARNING: /Users/travis/build/dmlc/xgboost/src/learner.cc:1095: Starting in XGBoost 1.3.0, the default evaluation metric used with the objective 'binary:logistic' was changed from 'error' to 'logloss'. Explicitly set eval_metric if you'd like to restore the old behavior.\n"
     ]
    },
    {
     "name": "stderr",
     "output_type": "stream",
     "text": [
      "/usr/local/lib/python3.9/site-packages/xgboost/sklearn.py:1146: UserWarning: The use of label encoder in XGBClassifier is deprecated and will be removed in a future release. To remove this warning, do the following: 1) Pass option use_label_encoder=False when constructing XGBClassifier object; and 2) Encode your labels (y) as integers starting with 0, i.e. 0, 1, 2, ..., [num_class - 1].\n",
      "  warnings.warn(label_encoder_deprecation_msg, UserWarning)\n"
     ]
    },
    {
     "name": "stdout",
     "output_type": "stream",
     "text": [
      "              precision    recall  f1-score   support\n",
      "\n",
      "           0       0.44      0.45      0.44       228\n",
      "           1       0.44      0.43      0.43       228\n",
      "\n",
      "    accuracy                           0.44       456\n",
      "   macro avg       0.44      0.44      0.44       456\n",
      "weighted avg       0.44      0.44      0.44       456\n",
      "\n",
      "----------------------------------------\n",
      "i : 16 scale_type : robust\n",
      "Train UP : 1082 DOWN : 945\n",
      "Test  UP : 279 DOWN : 228\n",
      "Train UP : 945 DOWN : 945\n",
      "Test  UP : 228 DOWN : 228\n",
      "[22:52:24] WARNING: /Users/travis/build/dmlc/xgboost/src/learner.cc:1095: Starting in XGBoost 1.3.0, the default evaluation metric used with the objective 'binary:logistic' was changed from 'error' to 'logloss'. Explicitly set eval_metric if you'd like to restore the old behavior.\n"
     ]
    },
    {
     "name": "stderr",
     "output_type": "stream",
     "text": [
      "/usr/local/lib/python3.9/site-packages/xgboost/sklearn.py:1146: UserWarning: The use of label encoder in XGBClassifier is deprecated and will be removed in a future release. To remove this warning, do the following: 1) Pass option use_label_encoder=False when constructing XGBClassifier object; and 2) Encode your labels (y) as integers starting with 0, i.e. 0, 1, 2, ..., [num_class - 1].\n",
      "  warnings.warn(label_encoder_deprecation_msg, UserWarning)\n"
     ]
    },
    {
     "name": "stdout",
     "output_type": "stream",
     "text": [
      "              precision    recall  f1-score   support\n",
      "\n",
      "           0       0.49      0.54      0.51       228\n",
      "           1       0.48      0.43      0.45       228\n",
      "\n",
      "    accuracy                           0.48       456\n",
      "   macro avg       0.48      0.48      0.48       456\n",
      "weighted avg       0.48      0.48      0.48       456\n",
      "\n",
      "----------------------------------------\n",
      "i : 16 scale_type : minmax\n",
      "Train UP : 1082 DOWN : 945\n",
      "Test  UP : 279 DOWN : 228\n",
      "Train UP : 945 DOWN : 945\n",
      "Test  UP : 228 DOWN : 228\n",
      "[22:52:25] WARNING: /Users/travis/build/dmlc/xgboost/src/learner.cc:1095: Starting in XGBoost 1.3.0, the default evaluation metric used with the objective 'binary:logistic' was changed from 'error' to 'logloss'. Explicitly set eval_metric if you'd like to restore the old behavior.\n"
     ]
    },
    {
     "name": "stderr",
     "output_type": "stream",
     "text": [
      "/usr/local/lib/python3.9/site-packages/xgboost/sklearn.py:1146: UserWarning: The use of label encoder in XGBClassifier is deprecated and will be removed in a future release. To remove this warning, do the following: 1) Pass option use_label_encoder=False when constructing XGBClassifier object; and 2) Encode your labels (y) as integers starting with 0, i.e. 0, 1, 2, ..., [num_class - 1].\n",
      "  warnings.warn(label_encoder_deprecation_msg, UserWarning)\n"
     ]
    },
    {
     "name": "stdout",
     "output_type": "stream",
     "text": [
      "              precision    recall  f1-score   support\n",
      "\n",
      "           0       0.49      0.56      0.52       228\n",
      "           1       0.49      0.42      0.45       228\n",
      "\n",
      "    accuracy                           0.49       456\n",
      "   macro avg       0.49      0.49      0.49       456\n",
      "weighted avg       0.49      0.49      0.49       456\n",
      "\n",
      "----------------------------------------\n"
     ]
    }
   ],
   "source": [
    "for i in [2,4,8,16]:\n",
    "    for scale_type in ['standard','robust','minmax']:\n",
    "        print(\"i :\",i,\"scale_type :\",scale_type)\n",
    "        x_train, y_train, x_test, y_test = MakeTrainData2class( df_nf225, stride=i, test_rate=0.8, scale_type=scale_type).under_sampling()\n",
    "        xgb_model = xgb.XGBClassifier(use_label_encoder=False)\n",
    "        hr_pred = xgb_model.fit(x_train, y_train).predict(x_test)\n",
    "        print(classification_report(y_test, hr_pred))\n",
    "        print(\"----------------------------------------\")"
   ]
  },
  {
   "cell_type": "code",
   "execution_count": 139,
   "id": "24a7f26d-1550-43c5-b746-3a6ec101a028",
   "metadata": {},
   "outputs": [
    {
     "name": "stderr",
     "output_type": "stream",
     "text": [
      "/usr/local/lib/python3.9/site-packages/xgboost/data.py:112: UserWarning: Use subset (sliced data) of np.ndarray is not recommended because it will generate extra copies and increase memory consumption\n",
      "  warnings.warn(\n"
     ]
    },
    {
     "name": "stdout",
     "output_type": "stream",
     "text": [
      "[18:48:03] WARNING: /Users/travis/build/dmlc/xgboost/src/learner.cc:1095: Starting in XGBoost 1.3.0, the default evaluation metric used with the objective 'binary:logistic' was changed from 'error' to 'logloss'. Explicitly set eval_metric if you'd like to restore the old behavior.\n",
      "              precision    recall  f1-score   support\n",
      "\n",
      "           0       0.49      0.44      0.46       229\n",
      "           1       0.49      0.55      0.52       229\n",
      "\n",
      "    accuracy                           0.49       458\n",
      "   macro avg       0.49      0.49      0.49       458\n",
      "weighted avg       0.49      0.49      0.49       458\n",
      "\n"
     ]
    }
   ],
   "source": [
    "xgb_model = xgb.XGBClassifier(use_label_encoder=False)\n",
    "hr_pred = xgb_model.fit(x_train, y_train).predict(x_test)\n",
    "print(classification_report(y_test, hr_pred))"
   ]
  },
  {
   "cell_type": "code",
   "execution_count": 53,
   "id": "f274ee85-fd4c-4048-b97e-6fa8b68d451e",
   "metadata": {},
   "outputs": [],
   "source": [
    "path_ = '/Users/rince/Desktop/StockPriceData/Stock_index/DAW_10years.csv'\n",
    "\n",
    "df_daw = DataFramePreProcessing.load_df(path_)\n",
    "daw_p = df_daw.pct_change()\n"
   ]
  },
  {
   "cell_type": "code",
   "execution_count": 54,
   "id": "1a7564e8-2e3c-45a8-a179-d3d8ce1acc8b",
   "metadata": {},
   "outputs": [
    {
     "data": {
      "text/html": [
       "<div>\n",
       "<style scoped>\n",
       "    .dataframe tbody tr th:only-of-type {\n",
       "        vertical-align: middle;\n",
       "    }\n",
       "\n",
       "    .dataframe tbody tr th {\n",
       "        vertical-align: top;\n",
       "    }\n",
       "\n",
       "    .dataframe thead th {\n",
       "        text-align: right;\n",
       "    }\n",
       "</style>\n",
       "<table border=\"1\" class=\"dataframe\">\n",
       "  <thead>\n",
       "    <tr style=\"text-align: right;\">\n",
       "      <th></th>\n",
       "      <th>open</th>\n",
       "      <th>high</th>\n",
       "      <th>low</th>\n",
       "      <th>close</th>\n",
       "    </tr>\n",
       "    <tr>\n",
       "      <th>day</th>\n",
       "      <th></th>\n",
       "      <th></th>\n",
       "      <th></th>\n",
       "      <th></th>\n",
       "    </tr>\n",
       "  </thead>\n",
       "  <tbody>\n",
       "    <tr>\n",
       "      <th>2011-07-06</th>\n",
       "      <td>12626.02</td>\n",
       "      <td>12626.02</td>\n",
       "      <td>12626.02</td>\n",
       "      <td>12626.02</td>\n",
       "    </tr>\n",
       "    <tr>\n",
       "      <th>2011-07-07</th>\n",
       "      <td>12719.49</td>\n",
       "      <td>12719.49</td>\n",
       "      <td>12719.49</td>\n",
       "      <td>12719.49</td>\n",
       "    </tr>\n",
       "    <tr>\n",
       "      <th>2011-07-08</th>\n",
       "      <td>12657.20</td>\n",
       "      <td>12657.20</td>\n",
       "      <td>12657.20</td>\n",
       "      <td>12657.20</td>\n",
       "    </tr>\n",
       "    <tr>\n",
       "      <th>2011-07-11</th>\n",
       "      <td>12505.76</td>\n",
       "      <td>12505.76</td>\n",
       "      <td>12505.76</td>\n",
       "      <td>12505.76</td>\n",
       "    </tr>\n",
       "    <tr>\n",
       "      <th>2011-07-12</th>\n",
       "      <td>12446.88</td>\n",
       "      <td>12446.88</td>\n",
       "      <td>12446.88</td>\n",
       "      <td>12446.88</td>\n",
       "    </tr>\n",
       "    <tr>\n",
       "      <th>...</th>\n",
       "      <td>...</td>\n",
       "      <td>...</td>\n",
       "      <td>...</td>\n",
       "      <td>...</td>\n",
       "    </tr>\n",
       "    <tr>\n",
       "      <th>2021-06-28</th>\n",
       "      <td>34283.27</td>\n",
       "      <td>34283.27</td>\n",
       "      <td>34283.27</td>\n",
       "      <td>34283.27</td>\n",
       "    </tr>\n",
       "    <tr>\n",
       "      <th>2021-06-29</th>\n",
       "      <td>34292.29</td>\n",
       "      <td>34292.29</td>\n",
       "      <td>34292.29</td>\n",
       "      <td>34292.29</td>\n",
       "    </tr>\n",
       "    <tr>\n",
       "      <th>2021-06-30</th>\n",
       "      <td>34502.51</td>\n",
       "      <td>34502.51</td>\n",
       "      <td>34502.51</td>\n",
       "      <td>34502.51</td>\n",
       "    </tr>\n",
       "    <tr>\n",
       "      <th>2021-07-01</th>\n",
       "      <td>34633.53</td>\n",
       "      <td>34633.53</td>\n",
       "      <td>34633.53</td>\n",
       "      <td>34633.53</td>\n",
       "    </tr>\n",
       "    <tr>\n",
       "      <th>2021-07-02</th>\n",
       "      <td>34786.35</td>\n",
       "      <td>34786.35</td>\n",
       "      <td>34786.35</td>\n",
       "      <td>34786.35</td>\n",
       "    </tr>\n",
       "  </tbody>\n",
       "</table>\n",
       "<p>2550 rows × 4 columns</p>\n",
       "</div>"
      ],
      "text/plain": [
       "                open      high       low     close\n",
       "day                                               \n",
       "2011-07-06  12626.02  12626.02  12626.02  12626.02\n",
       "2011-07-07  12719.49  12719.49  12719.49  12719.49\n",
       "2011-07-08  12657.20  12657.20  12657.20  12657.20\n",
       "2011-07-11  12505.76  12505.76  12505.76  12505.76\n",
       "2011-07-12  12446.88  12446.88  12446.88  12446.88\n",
       "...              ...       ...       ...       ...\n",
       "2021-06-28  34283.27  34283.27  34283.27  34283.27\n",
       "2021-06-29  34292.29  34292.29  34292.29  34292.29\n",
       "2021-06-30  34502.51  34502.51  34502.51  34502.51\n",
       "2021-07-01  34633.53  34633.53  34633.53  34633.53\n",
       "2021-07-02  34786.35  34786.35  34786.35  34786.35\n",
       "\n",
       "[2550 rows x 4 columns]"
      ]
     },
     "execution_count": 54,
     "metadata": {},
     "output_type": "execute_result"
    }
   ],
   "source": [
    "df_nf225"
   ]
  },
  {
   "cell_type": "code",
   "execution_count": 27,
   "id": "b45eeaf2-e560-4058-98d2-cf2a8cc8c9de",
   "metadata": {},
   "outputs": [
    {
     "name": "stdout",
     "output_type": "stream",
     "text": [
      "(1902, 6)\n",
      "(1902,)\n"
     ]
    }
   ],
   "source": [
    "print(x_train.shape)\n",
    "print(y_train.shape)"
   ]
  },
  {
   "cell_type": "code",
   "execution_count": 28,
   "id": "7821b6af-b43a-45f6-b627-407ab3c8b759",
   "metadata": {},
   "outputs": [],
   "source": [
    "length = len(x_)\n",
    "test_rate = int(0.8*length)\n",
    "\n",
    "x_train,y_train = x_[:test_rate],y_[:test_rate]\n",
    "x_test,y_test = x_[test_rate:],y_[test_rate:]\n",
    "x_train = x_train.reshape(x_train.shape[0],x_train.shape[1])\n",
    "x_test = x_test.reshape(x_test.shape[0],x_train.shape[1])\n",
    "y_train = np.argmax(y_train,axis=1)\n",
    "y_test = np.argmax(y_test,axis=1)"
   ]
  },
  {
   "cell_type": "markdown",
   "id": "b642d3f7-8cc4-4ddb-9637-f3e0ad78c1c1",
   "metadata": {},
   "source": [
    "# XGB predict"
   ]
  },
  {
   "cell_type": "code",
   "execution_count": 22,
   "id": "ddb6ae0c-347a-4888-bef3-76caac060021",
   "metadata": {},
   "outputs": [],
   "source": [
    "def xgb_pred(x_train,y_train,x_test,y_test):\n",
    "    dtrain = xgb.DMatrix(x_train, label=y_train)\n",
    "    param = {'eta': 0.09107858292565747, 'max_depth': 6, 'lambda': 0.9335155074430995, 'objective': 'multi:softmax', 'num_class': 3}  \n",
    "\n",
    "    num_round = 30\n",
    "    bst = xgb.train(param, dtrain,num_round)  \n",
    "#     bst = xgb.train(param, dtrain,num_round)  \n",
    "    # bst = xgb.train(dtrain)\n",
    "\n",
    "    dtest = xgb.DMatrix(x_test)  \n",
    "    pred = bst.predict(dtest)  \n",
    "\n",
    "    score = accuracy_score(y_test, pred)  \n",
    "    print('score:{0:.4f}'.format(score))  \n",
    "\n",
    "    #     xgb.plot_importance(bst)  \n",
    "\n",
    "    dtest = xgb.DMatrix(x_test)  \n",
    "    predict_classes = bst.predict(dtest)  \n",
    "\n",
    "    true_classes = y_test\n",
    "    plt.clf()\n",
    "    cmx = confusion_matrix(true_classes, predict_classes)\n",
    "    sns.heatmap(cmx, annot=True, fmt='g', square=True)\n",
    "    plt.show()\n",
    "    xgb.plot_importance(bst)  \n",
    "    plt.show()\n",
    "    \n",
    "    return bst"
   ]
  },
  {
   "cell_type": "code",
   "execution_count": 29,
   "id": "8f05e6ea-d324-4955-9f4a-33d80bd0acf8",
   "metadata": {},
   "outputs": [
    {
     "name": "stdout",
     "output_type": "stream",
     "text": [
      "[00:26:24] WARNING: /Users/travis/build/dmlc/xgboost/src/learner.cc:1095: Starting in XGBoost 1.3.0, the default evaluation metric used with the objective 'multi:softmax' was changed from 'merror' to 'mlogloss'. Explicitly set eval_metric if you'd like to restore the old behavior.\n",
      "score:0.5126\n"
     ]
    },
    {
     "data": {
      "image/png": "[encoded data removed]",
      "text/plain": [
       "<Figure size 432x288 with 2 Axes>"
      ]
     },
     "metadata": {
      "needs_background": "light"
     },
     "output_type": "display_data"
    },
    {
     "data": {
      "image/png": "[encoded data removed]",
      "text/plain": [
       "<Figure size 432x288 with 1 Axes>"
      ]
     },
     "metadata": {
      "needs_background": "light"
     },
     "output_type": "display_data"
    }
   ],
   "source": [
    "bst = xgb_pred(x_train,y_train,x_test,y_test)"
   ]
  },
  {
   "cell_type": "code",
   "execution_count": null,
   "id": "ea1e4e19-1aec-4be3-94bf-4cfa097c66c5",
   "metadata": {},
   "outputs": [],
   "source": []
  }
 ],
 "metadata": {
  "kernelspec": {
   "display_name": "Python 3",
   "language": "python",
   "name": "python3"
  },
  "language_info": {
   "codemirror_mode": {
    "name": "ipython",
    "version": 3
   },
   "file_extension": ".py",
   "mimetype": "text/x-python",
   "name": "python",
   "nbconvert_exporter": "python",
   "pygments_lexer": "ipython3",
   "version": "3.9.4"
  }
 },
 "nbformat": 4,
 "nbformat_minor": 5
}
